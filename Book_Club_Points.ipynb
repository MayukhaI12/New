{
  "nbformat": 4,
  "nbformat_minor": 0,
  "metadata": {
    "colab": {
      "provenance": [],
      "collapsed_sections": [],
      "authorship_tag": "ABX9TyNJKk10UhK8zey4QM5nzqe0",
      "include_colab_link": true
    },
    "kernelspec": {
      "name": "python3",
      "display_name": "Python 3"
    },
    "language_info": {
      "name": "python"
    }
  },
  "cells": [
    {
      "cell_type": "markdown",
      "metadata": {
        "id": "view-in-github",
        "colab_type": "text"
      },
      "source": [
        "<a href=\"https://colab.research.google.com/github/MayukhaI12/New/blob/Master/Book_Club_Points.ipynb\" target=\"_parent\"><img src=\"https://colab.research.google.com/assets/colab-badge.svg\" alt=\"Open In Colab\"/></a>"
      ]
    },
    {
      "cell_type": "code",
      "execution_count": null,
      "metadata": {
        "id": "TVTIFkgjbYJD"
      },
      "outputs": [],
      "source": [
        "#####################\n",
        "# Assignment 2: 2.11#\n",
        "# Date: 9/28/2022   #\n",
        "#####################\n",
        "'''\n",
        "Book Club Points\n",
        "Serendipity Booksellers has a book club that awards points to its customers based on the\n",
        "number of books purchased each month. The points are awarded as follows:\n",
        "If a customer purchases 0 books, he or she earns 0 points.\n",
        "If a customer purchases 2 books, he or she earns 5 points.\n",
        "If a customer purchases 4 books, he or she earns 15 points.\n",
        "If a customer purchases 6 books, he or she earns 30 points.\n",
        "If a customer purchases 8 or more books, he or she earns 60 points.\n",
        "Write a program that asks the user to enter the number of books that he or she has purchased\n",
        "this month, then displays the number of points awarded.\n",
        "'''\n",
        "########################################################################\n",
        "\n",
        "# Enter the number of books purchased.\n",
        "total_books = int(input(\"Enter the number of books purchased: \"))\n",
        "\n",
        "# Calcularing the number of points you earned.\n",
        "if (total_books = 0):\n",
        "  print(\"You earned 0 points.\")\n",
        "\n",
        "elif (total_books = 2):\n",
        "  print(\"You earned 5 points!\")\n",
        "\n",
        "elif (total_books = 4):\n",
        "  print(\"You earned 15 points!\")\n",
        "\n",
        "elif (total_books = 6):\n",
        "  print(\"You earned 30 points!\")\n",
        "\n",
        "else :\n",
        "  print(\"You earned 60 points!\")"
      ]
    }
  ]
}